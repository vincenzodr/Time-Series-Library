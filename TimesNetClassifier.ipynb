{
  "cells": [
    {
      "cell_type": "markdown",
      "metadata": {
        "id": "view-in-github",
        "colab_type": "text"
      },
      "source": [
        "<a href=\"https://colab.research.google.com/github/vincenzodr/Time-Series-Library/blob/multiclass_anomaly_detection/TimesNetClassifier.ipynb\" target=\"_parent\"><img src=\"https://colab.research.google.com/assets/colab-badge.svg\" alt=\"Open In Colab\"/></a>"
      ]
    },
    {
      "cell_type": "markdown",
      "source": [
        "## Mount drive"
      ],
      "metadata": {
        "id": "hjdPOG-dBW_I"
      }
    },
    {
      "cell_type": "code",
      "execution_count": 6,
      "metadata": {
        "colab": {
          "base_uri": "https://localhost:8080/"
        },
        "id": "QCsohY135DKn",
        "outputId": "5ec57b8c-8409-41db-aced-281ae04a88b8"
      },
      "outputs": [
        {
          "output_type": "stream",
          "name": "stdout",
          "text": [
            "Mounted at /content/drive/\n"
          ]
        }
      ],
      "source": [
        "from google.colab import drive\n",
        "drive.mount('/content/drive/')"
      ]
    },
    {
      "cell_type": "markdown",
      "metadata": {
        "id": "DAU7QJlu4-wW"
      },
      "source": [
        "## Clone repo and install requirements"
      ]
    },
    {
      "cell_type": "code",
      "execution_count": 7,
      "metadata": {
        "colab": {
          "base_uri": "https://localhost:8080/"
        },
        "id": "YHwXDsS_5wPi",
        "outputId": "f662c3c9-b342-408f-f1bd-4cefbb3b8460"
      },
      "outputs": [
        {
          "output_type": "stream",
          "name": "stdout",
          "text": [
            "Cloning into 'Time-Series-Library'...\n",
            "remote: Enumerating objects: 880, done.\u001b[K\n",
            "remote: Counting objects: 100% (436/436), done.\u001b[K\n",
            "remote: Compressing objects: 100% (114/114), done.\u001b[K\n",
            "remote: Total 880 (delta 378), reused 340 (delta 322), pack-reused 444\u001b[K\n",
            "Receiving objects: 100% (880/880), 11.08 MiB | 14.89 MiB/s, done.\n",
            "Resolving deltas: 100% (641/641), done.\n",
            "/content/Time-Series-Library\n",
            "Branch 'multiclass_anomaly_detection' set up to track remote branch 'multiclass_anomaly_detection' from 'origin'.\n",
            "Switched to a new branch 'multiclass_anomaly_detection'\n"
          ]
        }
      ],
      "source": [
        "!git clone https://github.com/vincenzodr/Time-Series-Library\n",
        "%cd /content/Time-Series-Library\n",
        "!git checkout multiclass_anomaly_detection"
      ]
    },
    {
      "cell_type": "code",
      "execution_count": 8,
      "metadata": {
        "colab": {
          "base_uri": "https://localhost:8080/"
        },
        "id": "F_tuca6-6Hz4",
        "outputId": "a3dcd2e3-8971-4d33-d3cb-22ed13fe06c6"
      },
      "outputs": [
        {
          "output_type": "stream",
          "name": "stdout",
          "text": [
            "Collecting einops==0.4.0 (from -r requirements.txt (line 1))\n",
            "  Downloading einops-0.4.0-py3-none-any.whl (28 kB)\n",
            "Collecting matplotlib==3.7.0 (from -r requirements.txt (line 2))\n",
            "  Downloading matplotlib-3.7.0-cp310-cp310-manylinux_2_17_x86_64.manylinux2014_x86_64.whl (11.6 MB)\n",
            "\u001b[2K     \u001b[90m━━━━━━━━━━━━━━━━━━━━━━━━━━━━━━━━━━━━━━━━\u001b[0m \u001b[32m11.6/11.6 MB\u001b[0m \u001b[31m92.7 MB/s\u001b[0m eta \u001b[36m0:00:00\u001b[0m\n",
            "\u001b[?25hCollecting numpy==1.23.5 (from -r requirements.txt (line 3))\n",
            "  Downloading numpy-1.23.5-cp310-cp310-manylinux_2_17_x86_64.manylinux2014_x86_64.whl (17.1 MB)\n",
            "\u001b[2K     \u001b[90m━━━━━━━━━━━━━━━━━━━━━━━━━━━━━━━━━━━━━━━━\u001b[0m \u001b[32m17.1/17.1 MB\u001b[0m \u001b[31m85.6 MB/s\u001b[0m eta \u001b[36m0:00:00\u001b[0m\n",
            "\u001b[?25hRequirement already satisfied: pandas==1.5.3 in /usr/local/lib/python3.10/dist-packages (from -r requirements.txt (line 4)) (1.5.3)\n",
            "Collecting patool==1.12 (from -r requirements.txt (line 5))\n",
            "  Downloading patool-1.12-py2.py3-none-any.whl (77 kB)\n",
            "\u001b[2K     \u001b[90m━━━━━━━━━━━━━━━━━━━━━━━━━━━━━━━━━━━━━━━━\u001b[0m \u001b[32m77.5/77.5 kB\u001b[0m \u001b[31m11.4 MB/s\u001b[0m eta \u001b[36m0:00:00\u001b[0m\n",
            "\u001b[?25hCollecting reformer-pytorch==1.4.4 (from -r requirements.txt (line 6))\n",
            "  Downloading reformer_pytorch-1.4.4-py3-none-any.whl (16 kB)\n",
            "Requirement already satisfied: scikit-learn==1.2.2 in /usr/local/lib/python3.10/dist-packages (from -r requirements.txt (line 7)) (1.2.2)\n",
            "Requirement already satisfied: scipy==1.10.1 in /usr/local/lib/python3.10/dist-packages (from -r requirements.txt (line 8)) (1.10.1)\n",
            "Collecting sktime==0.16.1 (from -r requirements.txt (line 9))\n",
            "  Downloading sktime-0.16.1-py3-none-any.whl (16.0 MB)\n",
            "\u001b[2K     \u001b[90m━━━━━━━━━━━━━━━━━━━━━━━━━━━━━━━━━━━━━━━━\u001b[0m \u001b[32m16.0/16.0 MB\u001b[0m \u001b[31m83.6 MB/s\u001b[0m eta \u001b[36m0:00:00\u001b[0m\n",
            "\u001b[?25hRequirement already satisfied: sympy==1.11.1 in /usr/local/lib/python3.10/dist-packages (from -r requirements.txt (line 10)) (1.11.1)\n",
            "\u001b[31mERROR: Ignored the following versions that require a different python version: 0.10.0 Requires-Python >=3.7,<3.10; 0.10.1 Requires-Python >=3.7,<3.10; 0.11.0 Requires-Python >=3.7,<3.10; 0.11.1 Requires-Python >=3.7,<3.10; 0.11.2 Requires-Python >=3.7,<3.10; 0.11.3 Requires-Python >=3.7,<3.10; 0.11.4 Requires-Python >=3.7,<3.10; 0.12.0 Requires-Python >=3.7,<3.10; 0.12.1 Requires-Python >=3.7,<3.10\u001b[0m\u001b[31m\n",
            "\u001b[0m\u001b[31mERROR: Could not find a version that satisfies the requirement torch==1.7.1 (from versions: 1.11.0, 1.12.0, 1.12.1, 1.13.0, 1.13.1, 2.0.0, 2.0.1)\u001b[0m\u001b[31m\n",
            "\u001b[0m\u001b[31mERROR: No matching distribution found for torch==1.7.1\u001b[0m\u001b[31m\n",
            "\u001b[0m"
          ]
        }
      ],
      "source": [
        "!pip install -r requirements.txt"
      ]
    },
    {
      "cell_type": "code",
      "execution_count": 9,
      "metadata": {
        "colab": {
          "base_uri": "https://localhost:8080/"
        },
        "id": "cM-KEd5Qr2oS",
        "outputId": "b6969fa1-3d76-494a-bc89-8535dda19667"
      },
      "outputs": [
        {
          "output_type": "stream",
          "name": "stdout",
          "text": [
            "Collecting patool\n",
            "  Using cached patool-1.12-py2.py3-none-any.whl (77 kB)\n",
            "Collecting sktime\n",
            "  Downloading sktime-0.21.0-py3-none-any.whl (17.1 MB)\n",
            "\u001b[2K     \u001b[90m━━━━━━━━━━━━━━━━━━━━━━━━━━━━━━━━━━━━━━━━\u001b[0m \u001b[32m17.1/17.1 MB\u001b[0m \u001b[31m28.6 MB/s\u001b[0m eta \u001b[36m0:00:00\u001b[0m\n",
            "\u001b[?25hCollecting reformer_pytorch\n",
            "  Using cached reformer_pytorch-1.4.4-py3-none-any.whl (16 kB)\n",
            "Collecting deprecated>=1.2.13 (from sktime)\n",
            "  Downloading Deprecated-1.2.14-py2.py3-none-any.whl (9.6 kB)\n",
            "Requirement already satisfied: numpy<1.26,>=1.21.0 in /usr/local/lib/python3.10/dist-packages (from sktime) (1.22.4)\n",
            "Requirement already satisfied: pandas<2.1.0,>=1.1.0 in /usr/local/lib/python3.10/dist-packages (from sktime) (1.5.3)\n",
            "Requirement already satisfied: packaging in /usr/local/lib/python3.10/dist-packages (from sktime) (23.1)\n",
            "Collecting scikit-base<0.6.0 (from sktime)\n",
            "  Downloading scikit_base-0.5.0-py3-none-any.whl (118 kB)\n",
            "\u001b[2K     \u001b[90m━━━━━━━━━━━━━━━━━━━━━━━━━━━━━━━━━━━━━━\u001b[0m \u001b[32m118.2/118.2 kB\u001b[0m \u001b[31m15.5 MB/s\u001b[0m eta \u001b[36m0:00:00\u001b[0m\n",
            "\u001b[?25hRequirement already satisfied: scikit-learn<1.4.0,>=0.24.0 in /usr/local/lib/python3.10/dist-packages (from sktime) (1.2.2)\n",
            "Requirement already satisfied: scipy<2.0.0,>=1.2.0 in /usr/local/lib/python3.10/dist-packages (from sktime) (1.10.1)\n",
            "Collecting axial-positional-embedding>=0.1.0 (from reformer_pytorch)\n",
            "  Downloading axial_positional_embedding-0.2.1.tar.gz (2.6 kB)\n",
            "  Preparing metadata (setup.py) ... \u001b[?25l\u001b[?25hdone\n",
            "Collecting einops (from reformer_pytorch)\n",
            "  Downloading einops-0.6.1-py3-none-any.whl (42 kB)\n",
            "\u001b[2K     \u001b[90m━━━━━━━━━━━━━━━━━━━━━━━━━━━━━━━━━━━━━━━━\u001b[0m \u001b[32m42.2/42.2 kB\u001b[0m \u001b[31m4.6 MB/s\u001b[0m eta \u001b[36m0:00:00\u001b[0m\n",
            "\u001b[?25hCollecting local-attention (from reformer_pytorch)\n",
            "  Downloading local_attention-1.8.6-py3-none-any.whl (8.1 kB)\n",
            "Collecting product-key-memory (from reformer_pytorch)\n",
            "  Downloading product_key_memory-0.2.9-py3-none-any.whl (6.2 kB)\n",
            "Requirement already satisfied: torch in /usr/local/lib/python3.10/dist-packages (from reformer_pytorch) (2.0.1+cu118)\n",
            "Requirement already satisfied: wrapt<2,>=1.10 in /usr/local/lib/python3.10/dist-packages (from deprecated>=1.2.13->sktime) (1.14.1)\n",
            "Requirement already satisfied: python-dateutil>=2.8.1 in /usr/local/lib/python3.10/dist-packages (from pandas<2.1.0,>=1.1.0->sktime) (2.8.2)\n",
            "Requirement already satisfied: pytz>=2020.1 in /usr/local/lib/python3.10/dist-packages (from pandas<2.1.0,>=1.1.0->sktime) (2022.7.1)\n",
            "Requirement already satisfied: joblib>=1.1.1 in /usr/local/lib/python3.10/dist-packages (from scikit-learn<1.4.0,>=0.24.0->sktime) (1.3.1)\n",
            "Requirement already satisfied: threadpoolctl>=2.0.0 in /usr/local/lib/python3.10/dist-packages (from scikit-learn<1.4.0,>=0.24.0->sktime) (3.2.0)\n",
            "Collecting colt5-attention>=0.10.14 (from product-key-memory->reformer_pytorch)\n",
            "  Downloading CoLT5_attention-0.10.14-py3-none-any.whl (18 kB)\n",
            "Requirement already satisfied: filelock in /usr/local/lib/python3.10/dist-packages (from torch->reformer_pytorch) (3.12.2)\n",
            "Requirement already satisfied: typing-extensions in /usr/local/lib/python3.10/dist-packages (from torch->reformer_pytorch) (4.7.1)\n",
            "Requirement already satisfied: sympy in /usr/local/lib/python3.10/dist-packages (from torch->reformer_pytorch) (1.11.1)\n",
            "Requirement already satisfied: networkx in /usr/local/lib/python3.10/dist-packages (from torch->reformer_pytorch) (3.1)\n",
            "Requirement already satisfied: jinja2 in /usr/local/lib/python3.10/dist-packages (from torch->reformer_pytorch) (3.1.2)\n",
            "Requirement already satisfied: triton==2.0.0 in /usr/local/lib/python3.10/dist-packages (from torch->reformer_pytorch) (2.0.0)\n",
            "Requirement already satisfied: cmake in /usr/local/lib/python3.10/dist-packages (from triton==2.0.0->torch->reformer_pytorch) (3.25.2)\n",
            "Requirement already satisfied: lit in /usr/local/lib/python3.10/dist-packages (from triton==2.0.0->torch->reformer_pytorch) (16.0.6)\n",
            "Requirement already satisfied: six>=1.5 in /usr/local/lib/python3.10/dist-packages (from python-dateutil>=2.8.1->pandas<2.1.0,>=1.1.0->sktime) (1.16.0)\n",
            "Requirement already satisfied: MarkupSafe>=2.0 in /usr/local/lib/python3.10/dist-packages (from jinja2->torch->reformer_pytorch) (2.1.3)\n",
            "Requirement already satisfied: mpmath>=0.19 in /usr/local/lib/python3.10/dist-packages (from sympy->torch->reformer_pytorch) (1.3.0)\n",
            "Building wheels for collected packages: axial-positional-embedding\n",
            "  Building wheel for axial-positional-embedding (setup.py) ... \u001b[?25l\u001b[?25hdone\n",
            "  Created wheel for axial-positional-embedding: filename=axial_positional_embedding-0.2.1-py3-none-any.whl size=2882 sha256=3c4a96a8f02efc12675d400b49d0fda826138cde9dcbeadb9c33f17824f878c2\n",
            "  Stored in directory: /root/.cache/pip/wheels/b1/cb/39/7ce7ff2d2fd37cfe1fe7b3a3c43cf410632b2ad3b3f3986d73\n",
            "Successfully built axial-positional-embedding\n",
            "Installing collected packages: patool, scikit-base, einops, deprecated, sktime, local-attention, colt5-attention, product-key-memory, axial-positional-embedding, reformer_pytorch\n",
            "Successfully installed axial-positional-embedding-0.2.1 colt5-attention-0.10.14 deprecated-1.2.14 einops-0.6.1 local-attention-1.8.6 patool-1.12 product-key-memory-0.2.9 reformer_pytorch-1.4.4 scikit-base-0.5.0 sktime-0.21.0\n"
          ]
        }
      ],
      "source": [
        "!pip install patool sktime reformer_pytorch"
      ]
    },
    {
      "cell_type": "markdown",
      "metadata": {
        "id": "ZcQ4_sOl4-wa"
      },
      "source": [
        "## Run"
      ]
    },
    {
      "cell_type": "code",
      "execution_count": 51,
      "metadata": {
        "colab": {
          "base_uri": "https://localhost:8080/"
        },
        "id": "uYC64dXA7VME",
        "outputId": "83a91dd7-28ae-496e-cd64-755af6c4efe8"
      },
      "outputs": [
        {
          "output_type": "stream",
          "name": "stdout",
          "text": [
            "Args in experiment:\n",
            "Namespace(task_name='multiclass_anomaly_detection', is_training=1, model_id='GPVS', model='TimesNetClassifier', data='GPVS', root_path='/content/drive/MyDrive/Università/Magistrale/TESI/Datasets', data_path='GPVS_subset.csv', features='M', target='OT', freq='h', checkpoints='./checkpoints/', seq_len=100, label_len=48, pred_len=0, seasonal_patterns='Monthly', mask_rate=0.25, anomaly_ratio=1.0, top_k=3, num_kernels=6, enc_in=14, dec_in=7, c_out=14, d_model=8, n_heads=8, e_layers=3, d_layers=1, d_ff=8, moving_avg=25, factor=1, distil=True, dropout=0.1, embed='timeF', activation='gelu', output_attention=False, num_workers=10, itr=1, train_epochs=1, batch_size=128, patience=3, learning_rate=0.0001, des='test', loss='MSE', lradj='type1', use_amp=False, use_gpu=True, gpu=0, use_multi_gpu=False, devices='0,1,2,3', p_hidden_dims=[128, 128], p_hidden_layers=2)\n",
            "Use GPU: cuda:0\n",
            ">>>>>>>start training : multiclass_anomaly_detection_GPVS_TimesNetClassifier_GPVS_ftM_sl100_ll48_pl0_dm8_nh8_el3_dl1_df8_fc1_ebtimeF_dtTrue_test_0>>>>>>>>>>>>>>>>>>>>>>>>>>\n",
            "test: (1000, 14)\n",
            "train: (4000, 14)\n",
            "train 3901\n",
            "test: (1000, 14)\n",
            "train: (4000, 14)\n",
            "val 901\n",
            "test: (1000, 14)\n",
            "train: (4000, 14)\n",
            "test 901\n",
            "Epoch: 1 cost time: 9.907986402511597\n",
            "Epoch: 1, Steps: 31 | Train Loss: 2.7972071 Vali Loss: 2.8856409 Test Loss: 2.9731386\n",
            "Validation loss decreased (inf --> 2.885641).  Saving model ...\n",
            "Updating learning rate to 0.0001\n",
            ">>>>>>>testing : multiclass_anomaly_detection_GPVS_TimesNetClassifier_GPVS_ftM_sl100_ll48_pl0_dm8_nh8_el3_dl1_df8_fc1_ebtimeF_dtTrue_test_0<<<<<<<<<<<<<<<<<<<<<<<<<<<<<<<<<\n",
            "test: (1000, 14)\n",
            "train: (4000, 14)\n",
            "test 901\n",
            "test shape: torch.Size([90100, 16]) torch.Size([90100, 1])\n",
            "accuracy:0.06221975582685905\n"
          ]
        }
      ],
      "source": [
        "!python -u run.py \\\n",
        "  --task_name multiclass_anomaly_detection \\\n",
        "  --is_training 1 \\\n",
        "  --root_path /content/drive/MyDrive/Università/Magistrale/TESI/Datasets \\\n",
        "  --data_path GPVS_subset.csv \\\n",
        "  --model_id GPVS \\\n",
        "  --model TimesNetClassifier \\\n",
        "  --data GPVS \\\n",
        "  --features M \\\n",
        "  --seq_len 100 \\\n",
        "  --pred_len 0 \\\n",
        "  --d_model 8 \\\n",
        "  --d_ff 8 \\\n",
        "  --e_layers 3 \\\n",
        "  --enc_in 14 \\\n",
        "  --c_out 14 \\\n",
        "  --top_k 3 \\\n",
        "  --anomaly_ratio 1 \\\n",
        "  --batch_size 128 \\\n",
        "  --train_epochs 1"
      ]
    },
    {
      "cell_type": "code",
      "source": [
        "!git status"
      ],
      "metadata": {
        "colab": {
          "base_uri": "https://localhost:8080/"
        },
        "id": "KQWycSFZ_rGD",
        "outputId": "804841ec-30e3-4306-ab5b-babf7494d5bd"
      },
      "execution_count": 52,
      "outputs": [
        {
          "output_type": "stream",
          "name": "stdout",
          "text": [
            "On branch multiclass_anomaly_detection\n",
            "Your branch is ahead of 'origin/multiclass_anomaly_detection' by 1 commit.\n",
            "  (use \"git push\" to publish your local commits)\n",
            "\n",
            "Changes not staged for commit:\n",
            "  (use \"git add <file>...\" to update what will be committed)\n",
            "  (use \"git restore <file>...\" to discard changes in working directory)\n",
            "\t\u001b[31mmodified:   data_provider/data_factory.py\u001b[m\n",
            "\t\u001b[31mmodified:   data_provider/data_loader.py\u001b[m\n",
            "\t\u001b[31mmodified:   exp/exp_multiclass_anomaly_detection.py\u001b[m\n",
            "\n",
            "Untracked files:\n",
            "  (use \"git add <file>...\" to include in what will be committed)\n",
            "\t\u001b[31mcheckpoints/\u001b[m\n",
            "\t\u001b[31mresult_anomaly_detection.txt\u001b[m\n",
            "\t\u001b[31mresult_classification.txt\u001b[m\n",
            "\n",
            "no changes added to commit (use \"git add\" and/or \"git commit -a\")\n"
          ]
        }
      ]
    },
    {
      "cell_type": "code",
      "source": [
        "!git config --global user.email \"vincy.vi98@gmail.com\"\n",
        "!git config --global user.name \"Vincenzo De Rosa\""
      ],
      "metadata": {
        "id": "Ku276HBEq3lO"
      },
      "execution_count": 28,
      "outputs": []
    },
    {
      "cell_type": "code",
      "source": [
        "!git commit -a -m \"Fix\""
      ],
      "metadata": {
        "id": "-R65BJdzghJL",
        "colab": {
          "base_uri": "https://localhost:8080/"
        },
        "outputId": "72f94144-91d3-42df-cf8f-5e658fe9651b"
      },
      "execution_count": 30,
      "outputs": [
        {
          "output_type": "stream",
          "name": "stdout",
          "text": [
            "[multiclass_anomaly_detection c50f1e0] Fix\n",
            " 3 files changed, 13 insertions(+), 9 deletions(-)\n"
          ]
        }
      ]
    },
    {
      "cell_type": "code",
      "source": [
        "!git push Time-Series-Library multiclass_anomaly_detection"
      ],
      "metadata": {
        "colab": {
          "base_uri": "https://localhost:8080/"
        },
        "id": "teqJBVJerlcg",
        "outputId": "51c658d6-6278-4662-f79e-2c92caabf553"
      },
      "execution_count": 32,
      "outputs": [
        {
          "output_type": "stream",
          "name": "stdout",
          "text": [
            "fatal: 'Time-Series-Library' does not appear to be a git repository\n",
            "fatal: Could not read from remote repository.\n",
            "\n",
            "Please make sure you have the correct access rights\n",
            "and the repository exists.\n"
          ]
        }
      ]
    }
  ],
  "metadata": {
    "colab": {
      "provenance": [],
      "gpuType": "T4",
      "include_colab_link": true
    },
    "kernelspec": {
      "display_name": "Python 3",
      "name": "python3"
    },
    "language_info": {
      "codemirror_mode": {
        "name": "ipython",
        "version": 3
      },
      "file_extension": ".py",
      "mimetype": "text/x-python",
      "name": "python",
      "nbconvert_exporter": "python",
      "pygments_lexer": "ipython3",
      "version": "3.10.11"
    },
    "accelerator": "GPU"
  },
  "nbformat": 4,
  "nbformat_minor": 0
}